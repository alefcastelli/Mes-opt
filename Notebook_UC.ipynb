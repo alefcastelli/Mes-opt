{
 "cells": [
  {
   "cell_type": "markdown",
   "metadata": {},
   "source": [
    "# Unit Commitment with Pyomo"
   ]
  },
  {
   "cell_type": "markdown",
   "metadata": {},
   "source": [
    "## Collecting the data and creating the typical days profiles"
   ]
  },
  {
   "cell_type": "code",
   "execution_count": 1,
   "metadata": {},
   "outputs": [
    {
     "name": "stderr",
     "output_type": "stream",
     "text": [
      "C:\\Users\\Lorenzo\\Desktop\\prova modello python\\optimization_test.py:34: FutureWarning: Method .as_matrix will be removed in a future version. Use .values instead.\n",
      "  Demands = demands.as_matrix()\n",
      "C:\\Users\\Lorenzo\\Desktop\\prova modello python\\optimization_test.py:93: MatplotlibDeprecationWarning: Adding an axes using the same arguments as a previous axes currently reuses the earlier instance.  In a future version, a new instance will always be created and returned.  Meanwhile, this warning can be suppressed, and the future behavior ensured, by passing a unique label to each axes instance.\n",
      "  plt.subplot(1,3,ii+1)\n",
      "C:\\Users\\Lorenzo\\Desktop\\prova modello python\\optimization_test.py:100: MatplotlibDeprecationWarning: Adding an axes using the same arguments as a previous axes currently reuses the earlier instance.  In a future version, a new instance will always be created and returned.  Meanwhile, this warning can be suppressed, and the future behavior ensured, by passing a unique label to each axes instance.\n",
      "  plt.subplot(1,3,1)\n",
      "C:\\Users\\Lorenzo\\Desktop\\prova modello python\\optimization_test.py:102: MatplotlibDeprecationWarning: Adding an axes using the same arguments as a previous axes currently reuses the earlier instance.  In a future version, a new instance will always be created and returned.  Meanwhile, this warning can be suppressed, and the future behavior ensured, by passing a unique label to each axes instance.\n",
      "  plt.subplot(1,3,2)\n",
      "C:\\Users\\Lorenzo\\Desktop\\prova modello python\\optimization_test.py:105: MatplotlibDeprecationWarning: Adding an axes using the same arguments as a previous axes currently reuses the earlier instance.  In a future version, a new instance will always be created and returned.  Meanwhile, this warning can be suppressed, and the future behavior ensured, by passing a unique label to each axes instance.\n",
      "  plt.subplot(1,3,1)\n"
     ]
    },
    {
     "data": {
      "text/plain": [
       "<Figure size 640x480 with 3 Axes>"
      ]
     },
     "metadata": {},
     "output_type": "display_data"
    },
    {
     "name": "stderr",
     "output_type": "stream",
     "text": [
      "C:\\Users\\Lorenzo\\Desktop\\prova modello python\\optimization_test.py:120: MatplotlibDeprecationWarning: Adding an axes using the same arguments as a previous axes currently reuses the earlier instance.  In a future version, a new instance will always be created and returned.  Meanwhile, this warning can be suppressed, and the future behavior ensured, by passing a unique label to each axes instance.\n",
      "  plt.subplot(1,3,1)\n",
      "C:\\Users\\Lorenzo\\Desktop\\prova modello python\\optimization_test.py:122: MatplotlibDeprecationWarning: Adding an axes using the same arguments as a previous axes currently reuses the earlier instance.  In a future version, a new instance will always be created and returned.  Meanwhile, this warning can be suppressed, and the future behavior ensured, by passing a unique label to each axes instance.\n",
      "  plt.subplot(1,3,2)\n"
     ]
    },
    {
     "data": {
      "text/plain": [
       "<Figure size 640x480 with 3 Axes>"
      ]
     },
     "metadata": {},
     "output_type": "display_data"
    }
   ],
   "source": [
    "from optimization_test import *\n",
    "plt.show()"
   ]
  },
  {
   "cell_type": "markdown",
   "metadata": {},
   "source": [
    "Importing Pyomo and other modules"
   ]
  },
  {
   "cell_type": "code",
   "execution_count": 2,
   "metadata": {},
   "outputs": [],
   "source": [
    "from pyomo.environ import *\n",
    "import numpy as np\n",
    "from matplotlib.pyplot import *"
   ]
  },
  {
   "cell_type": "markdown",
   "metadata": {},
   "source": [
    "Defeining the demand and the electricity generated from the PV for each typical days"
   ]
  },
  {
   "cell_type": "code",
   "execution_count": 3,
   "metadata": {},
   "outputs": [],
   "source": [
    "t=24 # parameter to set the dimension of the problem\n",
    "# Demands profiles\n",
    "EE_demand   = typ_profiles[0:t, 0]\n",
    "Heat_demand = typ_profiles[0:t, 1]\n",
    "Cold_demand = typ_profiles[0:t, 2]\n",
    "PV_output = typ_profiles[0:t, 3] # kW/m2"
   ]
  },
  {
   "cell_type": "markdown",
   "metadata": {},
   "source": [
    "Defining all parameters needed for the model"
   ]
  },
  {
   "cell_type": "code",
   "execution_count": 4,
   "metadata": {},
   "outputs": [],
   "source": [
    "# Fuels prices [€/kWh]\n",
    "Fuels = {\n",
    "    'NG': 0.0258,\n",
    "    'Diesel':  1\n",
    "    }\n",
    "\n",
    "# Available area [m2] for PV panels\n",
    "PV_area=10\n",
    "PV_gen=PV_area*PV_output # kW\n",
    "\n",
    "# Electricity prices [€/kWh] # può essere usato anche un profilo <--\n",
    "El_price = 0.3\n",
    "\n",
    "# Variation penalty cost [€]\n",
    "var_pen = 8\n",
    "\n",
    "# Heat producers parameters. Defined as a dictionary\n",
    "# Fuel: price related to the fuel.\n",
    "# goods: goods produced by the machines\n",
    "# m and q parameters: machines goods curve coefficients (straight lines, el=electricity, th=thermal)\n",
    "# min/max_In: energy input range\n",
    "# RU/RDlim: are the ramp up/down limits related to the machines (maximum load variation between two time steps)\n",
    "# RUSU/RDSD: ramp limits related to start-up (SU) and shut-down (SD) of the machines (max load variation between\n",
    "# time steps when machine start from switched-off condition)\n",
    "# Dissipable_Heat: True if Heat can be dissipated into atmosphere. NOTE: just for heat producing machines\n",
    "# Internal: True if it can consume internal goods (e.g. compressor chiller can use energy produced by other machiens)\n",
    "# NOTE: machines that can consume goods produced by other machiens have fuel cost null. There is a constraint that defines the\n",
    "# machine inoput as the sum of the bought electricity and the produced one\n",
    "\n",
    "# --> in futuro aggiungere anche il tipo di macchina e il numero di priorità\n",
    "Machines_parameters = {\n",
    "    'Boiler1': { 'In': 'NG', 'fuel cost': Fuels['NG'], 'goods':       ['Heat'],    'm_th': 0.976, 'q_th': -57.6,   'm_el':   0.0, 'q_el':    0.0, 'min_In':  450, 'max_In': 1800, 'RUlim': 1000, 'RDlim': 10000, 'RUSU': 1800, 'RDSD': 1800, 'minUT': 2, 'minDT': 0, 'OM':  2, 'Dissipable_Heat': False, 'Internal Consumer': False },\n",
    "    'Boiler2': { 'In':     'NG', 'fuel cost': Fuels['NG'], 'goods':       ['Heat'],    'm_th': 0.976, 'q_th': -57.6,   'm_el':   0.0, 'q_el':    0.0, 'min_In':  450, 'max_In': 1800, 'RUlim': 1000, 'RDlim': 10000, 'RUSU': 1800, 'RDSD': 1800, 'minUT': 2, 'minDT': 0, 'OM':  2, 'Dissipable_Heat': False, 'Internal Consumer': False },\n",
    "    'ICE1':    { 'In': 'NG', 'fuel cost': Fuels['NG'], 'goods': ['Heat', 'El'],    'm_th': 0.490, 'q_th': -201.72, 'm_el': 0.439, 'q_el': -106.2, 'min_In': 2144, 'max_In': 4288, 'RUlim': 4288, 'RDlim': 10000, 'RUSU': 4288, 'RDSD': 4288, 'minUT': 6, 'minDT': 0, 'OM': 19, 'Dissipable_Heat':  True, 'Internal Consumer': False },\n",
    "    #'ICE2':    { 'In': 'NG', 'fuel cost': Fuels['NG'], 'goods': ['Heat', 'El'],    'm_th': 0.490, 'q_th': -201.72, 'm_el': 0.439, 'q_el': -106.2, 'min_In': 2144, 'max_In': 4288, 'RUlim': 4288, 'RDlim': 10000, 'RUSU': 4288, 'RDSD': 4288, 'minUT': 6, 'minDT': 0, 'OM': 19, 'Dissipable_Heat':  True, 'Internal Consumer': False },\n",
    "    # 'CC':      { 'In': 'El', 'fuel cost':           0, 'goods':       ['Cold'],    'm_th': 3.500, 'q_th':    0.00, 'm_el': 0.000, 'q_el':    0.0, 'min_In':    0, 'max_In': 5000, 'RUlim': 1000, 'RDlim': 10000, 'RUSU': 5000, 'RDSD': 5000, 'minUT': 2, 'minDT': 0, 'OM':  2, 'Dissipable_Heat': False, 'Internal Consumer':  True }\n",
    "    }\n",
    "\n",
    "Storage_parameters = {\n",
    "     # thermal energy storage\n",
    "     'TES1': { 'good': 'Heat', 'minC': 0, 'maxC': 1274, 'Init%': 0, 'eta_ch': 1, 'eta_disch': 1, 'eta_sd': 0.995, 'PmaxIn': 5000, 'PmaxOut': 5000, 'FinCval': 0.0001, 'OMxTP': 0.0001 }\n",
    "     }\n",
    "\n",
    "# Time values\n",
    "# Number of time intervals\n",
    "T =t"
   ]
  },
  {
   "cell_type": "markdown",
   "metadata": {},
   "source": [
    "## Creating the Pyomo concrete model"
   ]
  },
  {
   "cell_type": "code",
   "execution_count": 5,
   "metadata": {},
   "outputs": [],
   "source": [
    "######################################################################################################################################################################\n",
    "# Optimization Model #################################################################################################################################################\n",
    "\n",
    "# Create model as ConcreteModel\n",
    "model = ConcreteModel()\n"
   ]
  },
  {
   "cell_type": "markdown",
   "metadata": {},
   "source": [
    "Creating Set"
   ]
  },
  {
   "cell_type": "code",
   "execution_count": 6,
   "metadata": {},
   "outputs": [],
   "source": [
    "## SETS\n",
    "# Set of all time intervals - in this case must be 504\n",
    "model.times = RangeSet( 0, T - 1 )\n",
    "\n",
    "# Set of all the machines\n",
    "model.Machines = Set( initialize = Machines_parameters.keys() )\n",
    "model.Storages = Set ( initialize= Storage_parameters.keys() )\n",
    "list_Machine_heat = []\n",
    "list_Machine_el = []\n",
    "list_Machine_diss=[]\n",
    "for i in Machines_parameters.keys():\n",
    "    if Machines_parameters[i]['Dissipable_Heat']:\n",
    "        list_Machine_diss.append(i)\n",
    "    if 'Heat' in Machines_parameters[i]['goods']:                               # aggiungere qua le righe per anche Cold <--\n",
    "        list_Machine_heat.append(i)\n",
    "        if 'El' in Machines_parameters[i]['goods']:\n",
    "            list_Machine_el.append(i)\n",
    "    elif 'El' in Machines_parameters[i]['goods']:\n",
    "        list_Machine_el.append(i)\n",
    "model.Machines_heat = Set( within = model.Machines, initialize = list_Machine_heat )\n",
    "model.Machines_el = Set( within = model.Machines, initialize = list_Machine_el )\n",
    "model.Machines_diss= Set( within=model.Machines, initialize=list_Machine_diss)"
   ]
  },
  {
   "cell_type": "markdown",
   "metadata": {},
   "source": [
    "Creating Variables"
   ]
  },
  {
   "cell_type": "code",
   "execution_count": 7,
   "metadata": {},
   "outputs": [],
   "source": [
    "## VARIABLES\n",
    "\n",
    "# Machines Variables\n",
    "# Fuel as input of the machines related to the amout at the i-th time for the j-th machine\n",
    "# Fuel input as power [kW]\n",
    "model.fuel_In = Var( model.Machines, model.times, domain = NonNegativeReals)\n",
    "\n",
    "# On/off variable\n",
    "model.z = Var( model.Machines, model.times, domain = Binary )\n",
    "# Delta on/off\n",
    "model.delta_on = Var (model.Machines, model.times, domain=Binary)\n",
    "model.delta_off = Var (model.Machines, model.times, domain=Binary)\n",
    "\n",
    "# Variable for Q and El produced\n",
    "model.Qprod = Var( model.Machines_heat, model.times, domain=NonNegativeReals)\n",
    "model.Elprod = Var( model.Machines_el, model.times, domain=NonNegativeReals)\n",
    "\n",
    "# Useful variables\n",
    "model.Quseful = Var( model.Machines_heat, model.times, domain=NonNegativeReals)\n",
    "model.Eluseful= Var( model.Machines_el, model.times, domain=NonNegativeReals)\n",
    "\n",
    "# Variable for Q dissipated\n",
    "model.Qdiss = Var( model.Machines_diss, model.times, domain=NonNegativeReals)\n",
    "\n",
    "# Electricity purch/sold to the network at time t\n",
    "model.el_purch = Var ( model.times, domain=NonNegativeReals)\n",
    "model.el_sold = Var ( model.times, domain=NonNegativeReals)\n",
    "\n",
    "# Heat Storage level\n",
    "model.l = Var (model.Storages, model.times, domain=NonNegativeReals)\n",
    "model.l[('TES1',0)].fix(0)  # storage start level = 0\n",
    "# Storage charge/discharge power\n",
    "model.power_in = Var (model.Storages, model.times, domain=Reals)\n",
    "model.power_out = Var (model.Storages, model.times, domain=Reals)"
   ]
  },
  {
   "cell_type": "markdown",
   "metadata": {},
   "source": [
    "Defining the Objective Function"
   ]
  },
  {
   "cell_type": "code",
   "execution_count": 8,
   "metadata": {},
   "outputs": [],
   "source": [
    "## OBJECTIVE FUNCTION\n",
    "def ObjFun( model ):\n",
    "    return sum(model.fuel_In[i,j]*Machines_parameters[i]['fuel cost']\n",
    "               for i in model.Machines for j in model.times) + sum(\n",
    "                       (model.el_purch[j]-model.el_sold[j]) for j in model.times)\n",
    "\n",
    "model.obj = Objective(\n",
    "    rule = ObjFun,\n",
    "    sense = minimize\n",
    "    )"
   ]
  },
  {
   "cell_type": "markdown",
   "metadata": {},
   "source": [
    "Defining Constraints"
   ]
  },
  {
   "cell_type": "code",
   "execution_count": 9,
   "metadata": {},
   "outputs": [],
   "source": [
    "## CONSTRAINTS\n",
    "\n",
    "# Machines Constraints\n",
    "# Machines range constraint\n",
    "# Machines on/off binary constraint\n",
    "# nota: li puoi aggregare in un unico vincolo\n",
    "\n",
    "# Min/Max energy input constraint\n",
    "def machines_rule_min( model, i, j ):\n",
    "    return  model.fuel_In[i,j] >= Machines_parameters[i]['min_In']*model.z[i,j]\n",
    "model.machine_constr_min=Constraint(model.Machines, model.times, rule=machines_rule_min)\n",
    "def machines_rule_max( model, i, j ):\n",
    "    return  model.fuel_In[i,j] <= Machines_parameters[i]['max_In']*model.z[i,j]\n",
    "model.machine_constr_max=Constraint(model.Machines, model.times, rule=machines_rule_max)\n",
    "\n",
    "# Rump Up/Down constraint\n",
    "# Set of all time excluding zero: model.times_not0=model.times-[0]\n",
    "def machines_RupLim_rule( model, i, j):\n",
    "    if j==0:\n",
    "        return Constraint.Skip\n",
    "    return model.fuel_In[i,j] - model.fuel_In[i, j-1] <= Machines_parameters[i]['RUlim']\n",
    "model.RupLim_constr=Constraint(model.Machines, model.times, rule=machines_RupLim_rule)\n",
    "\n",
    "def machines_RdLim_rule( model, i, j):\n",
    "    if j==0:\n",
    "        return Constraint.Skip\n",
    "    return model.fuel_In[i,j-1] - model.fuel_In[i, j] <= Machines_parameters[i]['RDlim']\n",
    "model.RdLim_constr=Constraint(model.Machines, model.times, rule=machines_RdLim_rule)\n",
    "\n",
    "# Delta on variable definition\n",
    "def delta_on_rule1( model, i, j):\n",
    "    if j==0:\n",
    "        return model.delta_on[i,j]==0\n",
    "    return model.delta_on[i,j] >= (model.z[i,j]-model.z[i,j-1])\n",
    "model.delta_on_constr1=Constraint(model.Machines, model.times, rule=delta_on_rule1)\n",
    "def delta_on_rule2( model, i, j):\n",
    "    if j==0:\n",
    "        return Constraint.Skip\n",
    "    return model.delta_on[i,j] <= 1 - model.z[i,j-1]\n",
    "model.delta_on_constr2=Constraint(model.Machines, model.times, rule=delta_on_rule2)\n",
    "def delta_on_rule3( model, i, j):\n",
    "    return model.delta_on[i,j] <= model.z[i,j]\n",
    "model.delta_on_constr3=Constraint(model.Machines, model.times, rule=delta_on_rule3)\n",
    "\n",
    "# Delta off variable definition\n",
    "def delta_off_rule1( model, i, j):\n",
    "    if j==0:\n",
    "        return model.delta_off[i,j]==0\n",
    "    return model.delta_off[i,j] >= (model.z[i,j-1]-model.z[i,j])\n",
    "model.delta_off_constr1=Constraint(model.Machines, model.times, rule=delta_off_rule1)\n",
    "def delta_off_rule2( model, i, j):\n",
    "    if j==0:\n",
    "        return Constraint.Skip\n",
    "    return model.delta_off[i,j] <= 1 - model.z[i,j]\n",
    "model.delta_off_constr2=Constraint(model.Machines, model.times, rule=delta_off_rule2)\n",
    "def delta_off_rule3( model, i, j):\n",
    "    if j==0:\n",
    "        return Constraint.Skip\n",
    "    return model.delta_off[i,j] <=  model.z[i,j-1]\n",
    "model.delta_off_constr3=Constraint(model.Machines, model.times, rule=delta_off_rule3)\n",
    "\n",
    "\n",
    "# Min UP/DOWN time constraint\n",
    "def min_up_rule(model, i, j):\n",
    "    if j < Machines_parameters[i]['minUT']:\n",
    "        return Constraint.Skip\n",
    "    return sum(model.z[i,t] for t in range(j-Machines_parameters[i]['minUT'], j)\n",
    "               ) >= Machines_parameters[i]['minUT']*model.delta_off[i,j]\n",
    "model.MinUT_constr=Constraint(model.Machines, model.times, rule=min_up_rule)\n",
    "\n",
    "def min_down_rule(model, i, j):\n",
    "    if Machines_parameters[i]['minDT']==0:\n",
    "        return Constraint.Skip\n",
    "    if j < Machines_parameters[i]['minDT']:\n",
    "        return Constraint.Skip\n",
    "    return sum((1-model.z[i,t]) for t in range(j-Machines_parameters[i]['minDT'], j)\n",
    "               ) >= Machines_parameters[i]['minDT']*model.delta_on[i,j]\n",
    "model.MinDT_constr=Constraint(model.Machines, model.times, rule=min_down_rule)\n",
    "\n",
    "\n",
    "\n",
    "\n",
    "# Function to obtain heat/cold produced by machines\n",
    "def heat_production(model, i, j ):\n",
    "    return  model.fuel_In[i,j]*Machines_parameters[i]['m_th'] + model.z[i,j]*Machines_parameters[i]['q_th']\n",
    "# Function to obtain elecricity produced by machines\n",
    "def el_production(model, i, j ):\n",
    "    return  model.fuel_In[i,j]*Machines_parameters[i]['m_el'] + model.z[i,j]*Machines_parameters[i]['q_el']\n",
    "\n",
    "def Qprod_rule(model, i, j):\n",
    "    return model.Qprod[i, j] == heat_production(model,i,j)\n",
    "model.Qprod_constr=Constraint(model.Machines_heat, model.times, rule=Qprod_rule)\n",
    "\n",
    "def Elprod_rule(model, i, j):\n",
    "    return model.Elprod[i, j] == el_production(model,i,j)\n",
    "model.Elprod_constr=Constraint (model.Machines_el, model.times, rule=Elprod_rule)\n",
    "\n",
    "'''\n",
    "# Q prod/useful constraint\n",
    "def heat_us_rule( model, i, j ):\n",
    "    return model.Quseful[i, j] <= model.Qprod[i, j]\n",
    "model.Heat_us_constr = Constraint(model.Machines_heat, model.times, rule = heat_us_rule)\n",
    "'''\n",
    "\n",
    "# El prod/useful constraint\n",
    "def el_us_rule( model, i, j ):\n",
    "    return model.Eluseful[i, j] == model.Elprod[i, j]\n",
    "model.el_us_constr = Constraint(model.Machines_el, model.times, rule = el_us_rule)\n",
    "\n",
    "# Q useful constraint: useful heat if generated but not dissipated\n",
    "# A constraint that the system uses to define Q diss each time step\n",
    "def heat_diss_rule( model, i, j ):\n",
    "    if Machines_parameters[i]['Dissipable_Heat']:\n",
    "        return model.Quseful[i, j] == model.Qprod[i, j] - model.Qdiss[i, j]\n",
    "    return model.Quseful[i, j] == model.Qprod[i, j]\n",
    "model.Heat_diss_constr = Constraint(model.Machines_heat, model.times, rule = heat_diss_rule)\n",
    "\n",
    "\n",
    "\n",
    "# Storage Capacity constraint\n",
    "def stor_capacity_rule( model, s, j):\n",
    "    return model.l[s, j] <= Storage_parameters[s]['maxC']\n",
    "model.stor_capacity_constr = Constraint(model.Storages ,model.times, rule=stor_capacity_rule)\n",
    "\n",
    "# Storage Power constraint\n",
    "def stor_powerIn_rule ( model, s, j):\n",
    "    if j==0:\n",
    "        return model.power_in[s,j] == model.l[s,j]/1\n",
    "    return model.power_in[s,j] == (model.l[s,j]-model.l[s,j-1])/1  # kWh/h = kW\n",
    "model.stor_powerIn_constr = Constraint(model.Storages, model.times, rule=stor_powerIn_rule)\n",
    "def stor_powerOut_rule ( model, s, j):\n",
    "    if j==0:\n",
    "        return model.power_out[s,j] == -model.l[s,j]/1\n",
    "    return model.power_out[s,j] == -(model.l[s,j]-model.l[s,j-1])/1  # kWh/h = kW\n",
    "model.stor_powerOut_constr = Constraint(model.Storages, model.times, rule=stor_powerOut_rule)\n",
    "\n",
    "# Storage level link\n",
    "def stor_link_rule(model, s):\n",
    "    return model.l[s,0]==model.l[s,T-1]\n",
    "model.stor_link_constr = Constraint(model.Storages, rule=stor_link_rule)\n",
    "\n",
    "\n",
    "\n",
    "# Heat balance constraint rule\n",
    "def heat_balance_rule( model, j, s ):\n",
    "    if j==0:\n",
    "        return sum( model.Quseful[i, j] for i in model.Machines_heat ) == Heat_demand[j]\n",
    "    return sum( model.Quseful[i, j] for i in model.Machines_heat ) -(model.l[s, j]-model.l[s, j-1]) == Heat_demand[j]\n",
    "# Heat Balance\n",
    "model.Heat_balance_constr = Constraint(\n",
    "    model.times, model.Storages,\n",
    "    rule = heat_balance_rule\n",
    "    )\n",
    "\n",
    "# Electricity balance constrint rule\n",
    "def el_balance_rule( model, j ):\n",
    "    return sum( model.Eluseful[i, j] for i in model.Machines_el ) + model.el_purch[j] - model.el_sold[j] +PV_gen[j]== EE_demand[j]\n",
    "# Electricity Balance\n",
    "model.El_balance_constr = Constraint(\n",
    "    model.times,\n",
    "    rule = el_balance_rule\n",
    "    )"
   ]
  },
  {
   "cell_type": "markdown",
   "metadata": {},
   "source": [
    "Solving the model"
   ]
  },
  {
   "cell_type": "code",
   "execution_count": 10,
   "metadata": {},
   "outputs": [
    {
     "name": "stdout",
     "output_type": "stream",
     "text": [
      "GLPSOL: GLPK LP/MIP Solver, v4.65\n",
      "Parameter(s) specified in the command line:\n",
      " --mipgap 0.05 --write C:\\Users\\Lorenzo\\AppData\\Local\\Temp\\tmpucp3cefd.glpk.raw\n",
      " --wglp C:\\Users\\Lorenzo\\AppData\\Local\\Temp\\tmpjqvo1fzh.glpk.glp --cpxlp C:\\Users\\Lorenzo\\AppData\\Local\\Temp\\tmp15tg62m8.pyomo.lp\n",
      "Reading problem data from 'C:\\Users\\Lorenzo\\AppData\\Local\\Temp\\tmp15tg62m8.pyomo.lp'...\n",
      "C:\\Users\\Lorenzo\\AppData\\Local\\Temp\\tmp15tg62m8.pyomo.lp:6652: warning: lower bound of variable 'x73' redefined\n",
      "C:\\Users\\Lorenzo\\AppData\\Local\\Temp\\tmp15tg62m8.pyomo.lp:6652: warning: upper bound of variable 'x73' redefined\n",
      "1081 rows, 624 columns, 2656 non-zeros\n",
      "216 integer variables, all of which are binary\n",
      "6868 lines were read\n",
      "Writing problem data to 'C:\\Users\\Lorenzo\\AppData\\Local\\Temp\\tmpjqvo1fzh.glpk.glp'...\n",
      "5726 lines were written\n",
      "GLPK Integer Optimizer, v4.65\n",
      "1081 rows, 624 columns, 2656 non-zeros\n",
      "216 integer variables, all of which are binary\n",
      "Preprocessing...\n",
      "2 hidden packing inequaliti(es) were detected\n",
      "126 hidden covering inequaliti(es) were detected\n",
      "2 constraint coefficient(s) were reduced\n",
      "868 rows, 505 columns, 2139 non-zeros\n",
      "195 integer variables, all of which are binary\n",
      "Scaling...\n",
      " A: min|aij| =  4.390e-01  max|aij| =  4.288e+03  ratio =  9.768e+03\n",
      "GM: min|aij| =  4.255e-01  max|aij| =  2.350e+00  ratio =  5.523e+00\n",
      "EQ: min|aij| =  1.811e-01  max|aij| =  1.000e+00  ratio =  5.523e+00\n",
      "2N: min|aij| =  1.125e-01  max|aij| =  1.250e+00  ratio =  1.111e+01\n",
      "Constructing initial basis...\n",
      "Size of triangular part is 868\n",
      "Solving LP relaxation...\n",
      "GLPK Simplex Optimizer, v4.65\n",
      "868 rows, 505 columns, 2139 non-zeros\n",
      "      0: obj =   2.917772183e+04 inf =   3.229e+04 (51)\n",
      "    348: obj =   4.239460620e+03 inf =   8.882e-16 (0) 2\n",
      "*   437: obj =  -7.704351510e+03 inf =   4.748e-15 (0) 1\n",
      "OPTIMAL LP SOLUTION FOUND\n",
      "Integer optimization begins...\n",
      "Long-step dual simplex will be used\n",
      "+   437: mip =     not found yet >=              -inf        (1; 0)\n",
      "+  1638: >>>>>  -7.696426160e+03 >=  -7.703491406e+03 < 0.1% (139; 16)\n",
      "+  1638: mip =  -7.696426160e+03 >=  -7.703491406e+03 < 0.1% (134; 24)\n",
      "RELATIVE MIP GAP TOLERANCE REACHED; SEARCH TERMINATED\n",
      "Time used:   0.4 secs\n",
      "Memory used: 1.7 Mb (1769629 bytes)\n",
      "Writing MIP solution to 'C:\\Users\\Lorenzo\\AppData\\Local\\Temp\\tmpucp3cefd.glpk.raw'...\n",
      "1714 lines were written\n"
     ]
    }
   ],
   "source": [
    "## Solve PROBLEM\n",
    "model.solver=SolverFactory('glpk')\n",
    "results = model.solver.solve(model, options={'mipgap':0.05}, tee=True) # tee=True to display solver output in console"
   ]
  },
  {
   "cell_type": "markdown",
   "metadata": {},
   "source": [
    "## Analizing and Plotting results"
   ]
  },
  {
   "cell_type": "code",
   "execution_count": 11,
   "metadata": {},
   "outputs": [
    {
     "data": {
      "image/png": "[encoded data removed]",
      "text/plain": [
       "<Figure size 432x288 with 1 Axes>"
      ]
     },
     "metadata": {
      "needs_background": "light"
     },
     "output_type": "display_data"
    },
    {
     "data": {
      "image/png": "[encoded data removed]",
      "text/plain": [
       "<Figure size 432x288 with 1 Axes>"
      ]
     },
     "metadata": {
      "needs_background": "light"
     },
     "output_type": "display_data"
    }
   ],
   "source": [
    "model.solutions.load_from(results)\n",
    "\n",
    "F_In=[]\n",
    "z=[]\n",
    "Q_prod=[]\n",
    "El_prod=[]\n",
    "Q_us=[]\n",
    "El_us=[]\n",
    "Q_diss=[]\n",
    "el_purch=[]\n",
    "el_sold=[]\n",
    "stor_lev=[]\n",
    "power_in=[]\n",
    "power_out=[]\n",
    "delta_on=[]\n",
    "delta_off=[]\n",
    "var_list=[F_In ,z , delta_on, delta_off, Q_prod, El_prod, Q_us, El_us, Q_diss, el_purch, el_sold, stor_lev, power_in, power_out]\n",
    "\n",
    "i = 0\n",
    "for v in model.component_objects(Var, active=True):\n",
    "    #print (\"Variable\",v)\n",
    "    for index in v:\n",
    "        #print('  ', index, value(v[index]))\n",
    "        var_list[i].append(value(v[index]))\n",
    "    i=i+1\n",
    "\n",
    "z_B1=np.array(z[0:T])\n",
    "z_B2=np.array(z[T:2*T])\n",
    "z_ICE1=np.array(z[2*T:3*T])\n",
    "\n",
    "Q_prod_B1=np.array(Q_prod[0:T])\n",
    "Q_prod_B2=np.array(Q_prod[T:2*T])\n",
    "Q_prod_ICE1=np.array(Q_prod[2*T:3*T])\n",
    "\n",
    "Q_us_B1=np.array(Q_us[0:T])\n",
    "Q_us_B2=np.array(Q_us[T:2*T])\n",
    "Q_us_ICE1=np.array(Q_us[2*T:3*T])\n",
    "\n",
    "El_prod_ICE1=np.array(El_prod)\n",
    "El_us_ICE1=np.array(El_us)\n",
    "\n",
    "Q_diss=-np.array(Q_diss)\n",
    "el_purch=np.array(el_purch)\n",
    "el_sold=-np.array(el_sold)\n",
    "\n",
    "Q_charge=[0]\n",
    "Q_discharge=[0]\n",
    "\n",
    "for i in range(1, len(stor_lev)):\n",
    "    diff=stor_lev[i]-stor_lev[i-1]\n",
    "    if diff >=0:\n",
    "        Q_charge.append(diff)\n",
    "        Q_discharge.append(0)\n",
    "    else:\n",
    "        Q_discharge.append(diff)\n",
    "        Q_charge.append(0)\n",
    "\n",
    "stor_l=np.array(stor_lev)\n",
    "Q_charge=-np.array(Q_charge)\n",
    "Q_discharge=-np.array(Q_discharge)\n",
    "\n",
    "\n",
    "H_day=24\n",
    "times_step=np.arange(H_day)\n",
    "Fig_Q=plt.figure()\n",
    "plt.xticks(times_step, list(times_step))\n",
    "plt.ylabel(\"Heat [kWh]\")\n",
    "plt.title(\"Q balance\")\n",
    "plt.bar(times_step, Q_discharge[0:H_day], bottom=Q_prod_B1[0:H_day]+ Q_prod_B2[0:H_day] + Q_prod_ICE1[0:H_day], label='TES1 discharge')\n",
    "plt.bar(times_step, Q_prod_ICE1[0:H_day],  bottom=Q_prod_B1[0:H_day]+ Q_prod_B2[0:H_day], label='Q prod ICE')\n",
    "plt.bar(times_step, Q_prod_B1[0:H_day], bottom=Q_prod_B2[0:H_day], label='Q prod B1')\n",
    "plt.bar(times_step, Q_prod_B2[0:H_day], label='Q prod B2')\n",
    "plt.bar(times_step, Q_charge[0:H_day], label='TES1 charge')\n",
    "plt.bar(times_step, Q_diss[0:H_day], bottom=Q_charge[0:H_day], label='Q diss')\n",
    "\n",
    "plt.plot(times_step, np.array(Heat_demand[0:H_day]), 'k--', label='Q demand')\n",
    "plt.plot(times_step, stor_l[0:H_day], 'b--', label='Storage level')\n",
    "plt.legend()\n",
    "#plt.show()\n",
    "\n",
    "\n",
    "#fig_El, ax_El=plt.subplots()\n",
    "Fig_E=plt.figure()\n",
    "#plt.subplot(122)\n",
    "plt.xticks(times_step, list(times_step))\n",
    "plt.ylabel(\"Electric Energy [kWh]\")\n",
    "plt.title(\"Electricity balance\")\n",
    "plt.bar(times_step, el_purch[0:H_day], bottom=PV_gen[0:H_day]+El_us_ICE1[0:H_day], label='el purch')\n",
    "plt.bar(times_step, El_prod_ICE1[0:H_day], bottom=PV_gen[0:H_day], label='el prod ICE')\n",
    "plt.bar(times_step, PV_gen[0:H_day], label='PV output')\n",
    "plt.bar(times_step, el_sold[0:H_day], label='el sold')\n",
    "\n",
    "plt.plot(times_step, np.array(EE_demand[0:H_day]), 'r--', label='El demand')\n",
    "plt.legend()\n",
    "plt.show()\n"
   ]
  }
 ],
 "metadata": {
  "kernelspec": {
   "display_name": "Python 3",
   "language": "python",
   "name": "python3"
  },
  "language_info": {
   "codemirror_mode": {
    "name": "ipython",
    "version": 3
   },
   "file_extension": ".py",
   "mimetype": "text/x-python",
   "name": "python",
   "nbconvert_exporter": "python",
   "pygments_lexer": "ipython3",
   "version": "3.7.4"
  }
 },
 "nbformat": 4,
 "nbformat_minor": 2
}
